{
 "cells": [
  {
   "cell_type": "code",
   "execution_count": null,
   "metadata": {
    "colab": {
     "base_uri": "https://localhost:8080/"
    },
    "executionInfo": {
     "elapsed": 6,
     "status": "ok",
     "timestamp": 1649954376395,
     "user": {
      "displayName": "Sam Lu",
      "userId": "15789059763790170725"
     },
     "user_tz": -480
    },
    "id": "XSX0v-rJ8YDu",
    "outputId": "e553e987-918f-4741-9198-c98876644680"
   },
   "outputs": [],
   "source": [
    "# 导入需要使用的库,其中numpy是支持数组和矩阵运算的科学计算库,而matplotlib是绘图库\n",
    "import numpy as np\n",
    "import matplotlib.pyplot as plt\n",
    "\n",
    "\n",
    "class BernoulliBandit:\n",
    "    \"\"\"伯努利多臂老虎机,输入K表示拉杆个数\"\"\"\n",
    "\n",
    "    def __init__(self, K):\n",
    "        self.probs = np.random.uniform(\n",
    "            size=K\n",
    "        )  # 随机生成K个0～1的数,作为拉动每根拉杆的获奖\n",
    "        # 概率\n",
    "        self.best_idx = np.argmax(self.probs)  # 获奖概率最大的拉杆\n",
    "        self.best_prob = self.probs[self.best_idx]  # type: ignore  # 最大的获奖概率\n",
    "        self.K = K\n",
    "\n",
    "    def step(self, k):\n",
    "        # 当玩家选择了k号拉杆后,根据拉动该老虎机的k号拉杆获得奖励的概率返回1（获奖）或0（未\n",
    "        # 获奖）\n",
    "        if np.random.rand() < self.probs[k]:  # type: ignore\n",
    "            return 1\n",
    "        else:\n",
    "            return 0\n",
    "\n",
    "\n",
    "np.random.seed(1)  # 设定随机种子,使实验具有可重复性\n",
    "K = 10\n",
    "bandit_10_arm = BernoulliBandit(K)\n",
    "print(\"随机生成了一个%d臂伯努利老虎机\" % K)\n",
    "print(\n",
    "    \"获奖概率最大的拉杆为%d号,其获奖概率为%.4f\"\n",
    "    % (bandit_10_arm.best_idx, bandit_10_arm.best_prob)\n",
    ")\n",
    "\n",
    "# 随机生成了一个10臂伯努利老虎机\n",
    "# 获奖概率最大的拉杆为1号,其获奖概率为0.7203"
   ]
  },
  {
   "cell_type": "code",
   "execution_count": null,
   "metadata": {
    "executionInfo": {
     "elapsed": 3,
     "status": "ok",
     "timestamp": 1649954377232,
     "user": {
      "displayName": "Sam Lu",
      "userId": "15789059763790170725"
     },
     "user_tz": -480
    },
    "id": "8gqKHavm8YDy"
   },
   "outputs": [],
   "source": [
    "class Solver:\n",
    "    \"\"\" 多臂老虎机算法基本框架 \"\"\"\n",
    "    def __init__(self, bandit):\n",
    "\n",
    "        # 初始化Solver类\n",
    "        self.bandit = bandit  # 老虎机实例\n",
    "        self.counts = np.zeros(self.bandit.K)  # 每根拉杆的尝试次数，初始化为0\n",
    "        self.regret = 0.  # 当前步的累积懊悔，初始化为0\n",
    "        self.actions = []  # 维护一个列表,记录每一步的动作\n",
    "        self.regrets = []  # 维护一个列表,记录每一步的累积懊悔\n",
    "\n",
    "    def update_regret(self, k):\n",
    "        # 计算累积懊悔并保存,k为本次动作选择的拉杆的编号\n",
    "        self.regret += self.bandit.best_prob - self.bandit.probs[k]  # 累积懊悔增加当前选择的拉杆与最佳拉杆的期望收益差\n",
    "        self.regrets.append(self.regret)\n",
    "\n",
    "    def run_one_step(self):\n",
    "        # 返回当前动作选择哪一根拉杆,由每个具体的策略实现\n",
    "        raise NotImplementedError\n",
    "\n",
    "    def run(self, num_steps):\n",
    "        # 运行一定次数,num_steps为总运行次数\n",
    "        for _ in range(num_steps):\n",
    "            k = self.run_one_step()\n",
    "            self.counts[k] += 1\n",
    "            self.actions.append(k)\n",
    "            self.update_regret(k)"
   ]
  },
  {
   "cell_type": "code",
   "execution_count": null,
   "metadata": {
    "executionInfo": {
     "elapsed": 2,
     "status": "ok",
     "timestamp": 1649954382967,
     "user": {
      "displayName": "Sam Lu",
      "userId": "15789059763790170725"
     },
     "user_tz": -480
    },
    "id": "YdD-JGH28YDz"
   },
   "outputs": [],
   "source": [
    "class EpsilonGreedy(Solver):\n",
    "    \"\"\"epsilon贪婪算法,继承Solver类\"\"\"\n",
    "\n",
    "    def __init__(self, bandit, epsilon=0.01, init_prob=1.0):\n",
    "        # Solver.__init__(self, bandit)  # 如果类的继承结构发生变化（例如，EpsilonGreedy 类不再直接继承自 Solver 类），这种写法可能不再适用，需要手动更改。\n",
    "        # super().__init__(bandit)  # super() 函数会自动查找并调用父类的 __init__ 方法，即使继承结构发生变化也能正常工作。\n",
    "        super(EpsilonGreedy, self).__init__(bandit)  # 明确指定了当前类 (EpsilonGreedy) 和实例 (self)，在某些复杂的继承结构（如多重继承）中，可以更精确地控制调用哪个父类的方法。\n",
    "        self.epsilon = epsilon\n",
    "        # 初始化拉动所有拉杆的期望奖励估值\n",
    "        self.estimates = np.array([init_prob] * self.bandit.K)\n",
    "\n",
    "    def run_one_step(self):\n",
    "        if np.random.random() < self.epsilon:\n",
    "            k = np.random.randint(0, self.bandit.K)  # 随机选择一根拉杆\n",
    "        else:\n",
    "            k = np.argmax(self.estimates)  # 选择期望奖励估值最大的拉杆\n",
    "        r = self.bandit.step(k)  # 得到本次动作的奖励\n",
    "        self.estimates[k] += 1.0 / (self.counts[k] + 1) * (r - self.estimates[k])\n",
    "        return k"
   ]
  },
  {
   "cell_type": "code",
   "execution_count": null,
   "metadata": {
    "colab": {
     "base_uri": "https://localhost:8080/",
     "height": 312
    },
    "executionInfo": {
     "elapsed": 676,
     "status": "ok",
     "timestamp": 1649954384006,
     "user": {
      "displayName": "Sam Lu",
      "userId": "15789059763790170725"
     },
     "user_tz": -480
    },
    "id": "wIHh_wRA8YDz",
    "outputId": "d5d65ff2-744d-44e2-ec8a-eb78d13397c2"
   },
   "outputs": [],
   "source": [
    "def plot_results(solvers, solver_names):\n",
    "    \"\"\"生成累积懊悔随时间变化的图像。输入solvers是一个列表,列表中的每个元素是一种特定的策略。\n",
    "    而solver_names也是一个列表,存储每个策略的名称\"\"\"\n",
    "    for idx, solver in enumerate(solvers):\n",
    "        time_list = range(len(solver.regrets))\n",
    "        plt.plot(time_list, solver.regrets, label=solver_names[idx])\n",
    "        plt.xlabel('Time steps')\n",
    "        plt.ylabel('Cumulative regrets')\n",
    "        plt.title('%d-armed bandit' % solver.bandit.K)\n",
    "        plt.legend()\n",
    "        plt.show()\n",
    "    if len(solvers) > 1:\n",
    "        for idx, solver in enumerate(solvers):\n",
    "            time_list = range(len(solver.regrets))\n",
    "            plt.plot(time_list, solver.regrets, label=solver_names[idx])\n",
    "        plt.xlabel('Time steps')\n",
    "        plt.ylabel('Cumulative regrets')\n",
    "        plt.title('%d-armed bandit' % solvers[0].bandit.K)\n",
    "        plt.legend()\n",
    "        plt.show()\n",
    "\n",
    "    \n",
    "np.random.seed(1)\n",
    "epsilon_greedy_solver = EpsilonGreedy(bandit_10_arm, epsilon=0.01)\n",
    "epsilon_greedy_solver.run(5000)\n",
    "print('epsilon-贪婪算法的累积懊悔为：', epsilon_greedy_solver.regret)\n",
    "plot_results([epsilon_greedy_solver], [\"EpsilonGreedy\"])\n",
    "\n",
    "# epsilon-贪婪算法的累积懊悔为：25.526630933945313"
   ]
  },
  {
   "cell_type": "code",
   "execution_count": null,
   "metadata": {
    "colab": {
     "base_uri": "https://localhost:8080/",
     "height": 295
    },
    "executionInfo": {
     "elapsed": 872,
     "status": "ok",
     "timestamp": 1649954384873,
     "user": {
      "displayName": "Sam Lu",
      "userId": "15789059763790170725"
     },
     "user_tz": -480
    },
    "id": "hRDFIebd8YD0",
    "outputId": "33430933-becc-41d3-8a85-d46da8f2013c"
   },
   "outputs": [],
   "source": [
    "np.random.seed(0)\n",
    "epsilons = [1e-4, 0.01, 0.1, 0.25, 0.5]\n",
    "epsilon_greedy_solver_list = [\n",
    "    EpsilonGreedy(bandit_10_arm, epsilon=e) for e in epsilons\n",
    "]\n",
    "epsilon_greedy_solver_names = [\"epsilon={}\".format(e) for e in epsilons]\n",
    "for solver in epsilon_greedy_solver_list:\n",
    "    solver.run(5000)\n",
    "\n",
    "plot_results(epsilon_greedy_solver_list, epsilon_greedy_solver_names)"
   ]
  },
  {
   "cell_type": "code",
   "execution_count": null,
   "metadata": {
    "colab": {
     "base_uri": "https://localhost:8080/",
     "height": 131
    },
    "executionInfo": {
     "elapsed": 7,
     "status": "error",
     "timestamp": 1649954384874,
     "user": {
      "displayName": "Sam Lu",
      "userId": "15789059763790170725"
     },
     "user_tz": -480
    },
    "id": "hLIkERHH8YD1",
    "outputId": "0eb1b916-3b0f-4939-83ec-edfad0e79d4e"
   },
   "outputs": [],
   "source": [
    "class DecayingEpsilonGreedy(Solver):\n",
    "    \"\"\" epsilon值随时间衰减的epsilon-贪婪算法,继承Solver类 \"\"\"\n",
    "    def __init__(self, bandit, init_prob=1.0):\n",
    "        super(DecayingEpsilonGreedy, self).__init__(bandit)\n",
    "        self.estimates = np.array([init_prob] * self.bandit.K)\n",
    "        self.total_count = 0\n",
    "\n",
    "    def run_one_step(self):\n",
    "        self.total_count += 1\n",
    "        if np.random.random() < 1 / self.total_count:  # epsilon值随时间衰减\n",
    "            k = np.random.randint(0, self.bandit.K)\n",
    "        else:\n",
    "            k = np.argmax(self.estimates)\n",
    "\n",
    "        r = self.bandit.step(k)\n",
    "        self.estimates[k] += 1. / (self.counts[k] + 1) * (r -\n",
    "                                                          self.estimates[k])\n",
    "\n",
    "        return k\n",
    "\n",
    "\n",
    "np.random.seed(1)\n",
    "decaying_epsilon_greedy_solver = DecayingEpsilonGreedy(bandit_10_arm)\n",
    "decaying_epsilon_greedy_solver.run(5000)\n",
    "print('epsilon值衰减的贪婪算法的累积懊悔为：', decaying_epsilon_greedy_solver.regret)\n",
    "plot_results([decaying_epsilon_greedy_solver], [\"DecayingEpsilonGreedy\"])\n",
    "\n",
    "# epsilon值衰减的贪婪算法的累积懊悔为：10.114334931260183"
   ]
  },
  {
   "cell_type": "code",
   "execution_count": null,
   "metadata": {
    "colab": {
     "base_uri": "https://localhost:8080/",
     "height": 131
    },
    "executionInfo": {
     "elapsed": 461,
     "status": "error",
     "timestamp": 1649954385672,
     "user": {
      "displayName": "Sam Lu",
      "userId": "15789059763790170725"
     },
     "user_tz": -480
    },
    "id": "O8XF2JjA8YD1",
    "outputId": "1a6b1248-c5c2-40cd-d3e7-5bea8e16e4e9"
   },
   "outputs": [],
   "source": [
    "class UCB(Solver):\n",
    "    \"\"\" UCB算法,继承Solver类 \"\"\"\n",
    "    def __init__(self, bandit, coef, init_prob=1.0):\n",
    "        super(UCB, self).__init__(bandit)\n",
    "        self.total_count = 0\n",
    "        self.estimates = np.array([init_prob] * self.bandit.K)\n",
    "        self.coef = coef\n",
    "\n",
    "    def run_one_step(self):\n",
    "        self.total_count += 1\n",
    "        ucb = self.estimates + self.coef * np.sqrt(\n",
    "            np.log(self.total_count) / (2 * (self.counts + 1)))  # 计算上置信界\n",
    "        k = np.argmax(ucb)  # 选出上置信界最大的拉杆\n",
    "        r = self.bandit.step(k)\n",
    "        self.estimates[k] += 1. / (self.counts[k] + 1) * (r -\n",
    "                                                          self.estimates[k])\n",
    "        return k\n",
    "\n",
    "\n",
    "np.random.seed(1)\n",
    "coef = 1  # 控制不确定性比重的系数\n",
    "UCB_solver = UCB(bandit_10_arm, coef)\n",
    "UCB_solver.run(5000)\n",
    "print('上置信界算法的累积懊悔为：', UCB_solver.regret)\n",
    "plot_results([UCB_solver], [\"UCB\"])\n",
    "\n",
    "# 上置信界算法的累积懊悔为： 70.45281214197854"
   ]
  },
  {
   "cell_type": "code",
   "execution_count": null,
   "metadata": {
    "colab": {
     "base_uri": "https://localhost:8080/",
     "height": 312
    },
    "executionInfo": {
     "elapsed": 553,
     "status": "ok",
     "timestamp": 1649954387265,
     "user": {
      "displayName": "Sam Lu",
      "userId": "15789059763790170725"
     },
     "user_tz": -480
    },
    "id": "K32HquQ-8YD2",
    "outputId": "b4c0d5cc-961d-4f25-a1db-22b6e12e82eb"
   },
   "outputs": [],
   "source": [
    "class ThompsonSampling(Solver):\n",
    "    \"\"\" 汤普森采样算法,继承Solver类 \"\"\"\n",
    "    def __init__(self, bandit):\n",
    "        super(ThompsonSampling, self).__init__(bandit)\n",
    "        self._a = np.ones(self.bandit.K)  # 列表,表示每根拉杆奖励为1的次数\n",
    "        self._b = np.ones(self.bandit.K)  # 列表,表示每根拉杆奖励为0的次数\n",
    "\n",
    "    def run_one_step(self):\n",
    "        samples = np.random.beta(self._a, self._b)  # 按照Beta分布采样一组奖励样本\n",
    "        k = np.argmax(samples)  # 选出采样奖励最大的拉杆\n",
    "        r = self.bandit.step(k)\n",
    "\n",
    "        self._a[k] += r  # 更新Beta分布的第一个参数\n",
    "        self._b[k] += (1 - r)  # 更新Beta分布的第二个参数\n",
    "        return k\n",
    "\n",
    "\n",
    "np.random.seed(1)\n",
    "thompson_sampling_solver = ThompsonSampling(bandit_10_arm)\n",
    "thompson_sampling_solver.run(5000)\n",
    "print('汤普森采样算法的累积懊悔为：', thompson_sampling_solver.regret)\n",
    "plot_results([thompson_sampling_solver], [\"ThompsonSampling\"])\n",
    "\n",
    "# 汤普森采样算法的累积懊悔为：57.19161964443925"
   ]
  }
 ],
 "metadata": {
  "colab": {
   "collapsed_sections": [],
   "name": "第2章-多臂老虎机问题.ipynb",
   "provenance": []
  },
  "kernelspec": {
   "display_name": "ai_py312",
   "language": "python",
   "name": "python3"
  },
  "language_info": {
   "codemirror_mode": {
    "name": "ipython",
    "version": 3
   },
   "file_extension": ".py",
   "mimetype": "text/x-python",
   "name": "python",
   "nbconvert_exporter": "python",
   "pygments_lexer": "ipython3",
   "version": "3.12.8"
  }
 },
 "nbformat": 4,
 "nbformat_minor": 1
}
